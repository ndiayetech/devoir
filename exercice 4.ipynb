{
 "cells": [
  {
   "cell_type": "code",
   "execution_count": 1,
   "metadata": {},
   "outputs": [
    {
     "name": "stdout",
     "output_type": "stream",
     "text": [
      "[1, 2, 3, 4, 5]\n"
     ]
    }
   ],
   "source": [
    "# 1\n",
    "def supprimer_doublons(liste):\n",
    "    liste_sans_doublons = list(set(liste))\n",
    "    return liste_sans_doublons\n",
    "\n",
    "# Exemple d'utilisation\n",
    "ma_liste = [1, 2, 2, 3, 4, 4, 5]\n",
    "resultat = supprimer_doublons(ma_liste)\n",
    "print(resultat)\n"
   ]
  },
  {
   "cell_type": "code",
   "execution_count": 2,
   "metadata": {},
   "outputs": [
    {
     "name": "stdout",
     "output_type": "stream",
     "text": [
      "[2, 3, 5, 7, 11, 13, 17, 19]\n"
     ]
    }
   ],
   "source": [
    "# 2\n",
    "def generer_nombres_premiers(nombre):\n",
    "    liste_premiers = []\n",
    "    for num in range(2, nombre + 1):\n",
    "        est_premier = True\n",
    "        for i in range(2, int(num ** 0.5) + 1):\n",
    "            if num % i == 0:\n",
    "                est_premier = False\n",
    "                break\n",
    "        if est_premier:\n",
    "            liste_premiers.append(num)\n",
    "    return liste_premiers\n",
    "\n",
    "# Exemple d'utilisation\n",
    "limite = 20\n",
    "resultat = generer_nombres_premiers(limite)\n",
    "print(resultat)\n",
    "\n"
   ]
  },
  {
   "cell_type": "code",
   "execution_count": 3,
   "metadata": {},
   "outputs": [
    {
     "name": "stdout",
     "output_type": "stream",
     "text": [
      "[3, 6, 9, 12, 15]\n"
     ]
    }
   ],
   "source": [
    "# 3\n",
    "def multiplier_par_trois(nombre):\n",
    "    return nombre * 3\n",
    "\n",
    "liste = [1, 2, 3, 4, 5]\n",
    "resultat = list(map(multiplier_par_trois, liste))\n",
    "print(resultat)\n"
   ]
  },
  {
   "cell_type": "code",
   "execution_count": null,
   "metadata": {},
   "outputs": [],
   "source": []
  }
 ],
 "metadata": {
  "kernelspec": {
   "display_name": "Python 3",
   "language": "python",
   "name": "python3"
  },
  "language_info": {
   "codemirror_mode": {
    "name": "ipython",
    "version": 3
   },
   "file_extension": ".py",
   "mimetype": "text/x-python",
   "name": "python",
   "nbconvert_exporter": "python",
   "pygments_lexer": "ipython3",
   "version": "3.7.4"
  }
 },
 "nbformat": 4,
 "nbformat_minor": 2
}
