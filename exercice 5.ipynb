{
 "cells": [
  {
   "cell_type": "code",
   "execution_count": 4,
   "metadata": {},
   "outputs": [
    {
     "name": "stdout",
     "output_type": "stream",
     "text": [
      "{'h': 1, 'e': 1, 'l': 3, 'o': 2, 'w': 1, 'r': 1, 'd': 1}\n"
     ]
    }
   ],
   "source": [
    "# 1\n",
    "def calculer_frequence_lettres(texte):\n",
    "    texte = texte.lower()\n",
    "    frequences = {}\n",
    "    for lettre in texte:\n",
    "        if lettre.isalpha():\n",
    "            if lettre in frequences:\n",
    "                frequences[lettre] += 1\n",
    "            else:\n",
    "                frequences[lettre] = 1\n",
    "    return frequences\n",
    "\n",
    "# Exemple d'utilisation\n",
    "texte = \"Hello, world!\"\n",
    "resultat = calculer_frequence_lettres(texte)\n",
    "print(resultat)\n"
   ]
  },
  {
   "cell_type": "code",
   "execution_count": null,
   "metadata": {},
   "outputs": [],
   "source": []
  },
  {
   "cell_type": "code",
   "execution_count": null,
   "metadata": {},
   "outputs": [],
   "source": []
  }
 ],
 "metadata": {
  "kernelspec": {
   "display_name": "Python 3",
   "language": "python",
   "name": "python3"
  },
  "language_info": {
   "codemirror_mode": {
    "name": "ipython",
    "version": 3
   },
   "file_extension": ".py",
   "mimetype": "text/x-python",
   "name": "python",
   "nbconvert_exporter": "python",
   "pygments_lexer": "ipython3",
   "version": "3.7.4"
  }
 },
 "nbformat": 4,
 "nbformat_minor": 2
}
