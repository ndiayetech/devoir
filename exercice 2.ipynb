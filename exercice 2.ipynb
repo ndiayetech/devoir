{
 "cells": [
  {
   "cell_type": "code",
   "execution_count": 2,
   "metadata": {},
   "outputs": [
    {
     "name": "stdout",
     "output_type": "stream",
     "text": [
      "[4, 5]\n"
     ]
    }
   ],
   "source": [
    "# 1\n",
    "def trouver_elements_communs(liste1, liste2):\n",
    "    elements_communs = []\n",
    "    for element in liste1:\n",
    "        if element in liste2:\n",
    "            elements_communs.append(element)\n",
    "    return elements_communs\n",
    "\n",
    "# Exemple d'utilisation\n",
    "liste1 = [1, 2, 3, 4, 5]\n",
    "liste2 = [4, 5, 6, 7, 8]\n",
    "resultat = trouver_elements_communs(liste1, liste2)\n",
    "print(resultat)\n",
    "\n",
    "\n"
   ]
  },
  {
   "cell_type": "code",
   "execution_count": 3,
   "metadata": {},
   "outputs": [
    {
     "name": "stdout",
     "output_type": "stream",
     "text": [
      "impair\n"
     ]
    }
   ],
   "source": [
    "# 2\n",
    "def determiner_pair_impair(nombre):\n",
    "    if nombre % 2 == 0:\n",
    "        return \"pair\"\n",
    "    else:\n",
    "        return \"impair\"\n",
    "\n",
    "# Exemple d'utilisation\n",
    "mon_nombre = 7\n",
    "resultat = determiner_pair_impair(mon_nombre)\n",
    "print(resultat)\n",
    "\n"
   ]
  },
  {
   "cell_type": "code",
   "execution_count": 4,
   "metadata": {},
   "outputs": [
    {
     "name": "stdout",
     "output_type": "stream",
     "text": [
      "15\n"
     ]
    }
   ],
   "source": [
    "# 3\n",
    "def calculer_somme(liste_nombres):\n",
    "    somme = sum(liste_nombres)\n",
    "    return somme\n",
    "\n",
    "# Exemple d'utilisation\n",
    "ma_liste = [1, 2, 3, 4, 5]\n",
    "resultat = calculer_somme(ma_liste)\n",
    "print(resultat)\n"
   ]
  },
  {
   "cell_type": "code",
   "execution_count": 5,
   "metadata": {},
   "outputs": [
    {
     "name": "stdout",
     "output_type": "stream",
     "text": [
      "['B', 'M', 'A']\n"
     ]
    }
   ],
   "source": [
    "# 4\n",
    "def extraire_premiere_lettre(liste_mots):\n",
    "    nouvelle_liste = [mot[0] for mot in liste_mots]\n",
    "    return nouvelle_liste\n",
    "\n",
    "# Exemple d'utilisation\n",
    "ma_liste = [\"Bonjour\", \"Mon\", \"Ami\"]\n",
    "resultat = extraire_premiere_lettre(ma_liste)\n",
    "print(resultat)\n",
    "\n"
   ]
  },
  {
   "cell_type": "code",
   "execution_count": 6,
   "metadata": {},
   "outputs": [
    {
     "name": "stdout",
     "output_type": "stream",
     "text": [
      "Hll Wrld\n"
     ]
    }
   ],
   "source": [
    "# 5\n",
    "def supprimer_voyelles(chaine):\n",
    "    voyelles = \"aeiouAEIOU\"\n",
    "    nouvelle_chaine = \"\"\n",
    "    for caractere in chaine:\n",
    "        if caractere not in voyelles:\n",
    "            nouvelle_chaine += caractere\n",
    "    return nouvelle_chaine\n",
    "\n",
    "# Exemple d'utilisation\n",
    "ma_chaine = \"Hello World\"\n",
    "resultat = supprimer_voyelles(ma_chaine)\n",
    "print(resultat)\n"
   ]
  },
  {
   "cell_type": "code",
   "execution_count": null,
   "metadata": {},
   "outputs": [],
   "source": []
  }
 ],
 "metadata": {
  "kernelspec": {
   "display_name": "Python 3",
   "language": "python",
   "name": "python3"
  },
  "language_info": {
   "codemirror_mode": {
    "name": "ipython",
    "version": 3
   },
   "file_extension": ".py",
   "mimetype": "text/x-python",
   "name": "python",
   "nbconvert_exporter": "python",
   "pygments_lexer": "ipython3",
   "version": "3.7.4"
  }
 },
 "nbformat": 4,
 "nbformat_minor": 2
}
