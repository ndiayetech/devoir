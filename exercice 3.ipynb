{
 "cells": [
  {
   "cell_type": "code",
   "execution_count": 1,
   "metadata": {},
   "outputs": [
    {
     "name": "stdout",
     "output_type": "stream",
     "text": [
      "4.0\n"
     ]
    }
   ],
   "source": [
    "# 1\n",
    "def calculer_mediane(liste_nombres):\n",
    "    liste_nombres.sort()\n",
    "    taille = len(liste_nombres)\n",
    "    if taille % 2 == 0:\n",
    "        mediane = (liste_nombres[taille // 2 - 1] + liste_nombres[taille // 2]) / 2\n",
    "    else:\n",
    "        mediane = liste_nombres[taille // 2]\n",
    "    return mediane\n",
    "\n",
    "# Exemple d'utilisation\n",
    "ma_liste = [5, 2, 8, 3, 9, 1]\n",
    "resultat = calculer_mediane(ma_liste)\n",
    "print(resultat)\n",
    "\n"
   ]
  },
  {
   "cell_type": "code",
   "execution_count": 2,
   "metadata": {},
   "outputs": [
    {
     "name": "stdout",
     "output_type": "stream",
     "text": [
      "['Bonjour', 'Bonjourno']\n"
     ]
    }
   ],
   "source": [
    "# 2\n",
    "def filtrer_chaines_longues(liste_chaines):\n",
    "    nouvelle_liste = []\n",
    "    for chaine in liste_chaines:\n",
    "        if len(chaine) > 5:\n",
    "            nouvelle_liste.append(chaine)\n",
    "    return nouvelle_liste\n",
    "\n",
    "# Exemple d'utilisation\n",
    "ma_liste = [\"Bonjour\", \"Salut\", \"Hello\", \"Bonjourno\", \"Hi\"]\n",
    "resultat = filtrer_chaines_longues(ma_liste)\n",
    "print(resultat)\n"
   ]
  },
  {
   "cell_type": "code",
   "execution_count": 3,
   "metadata": {},
   "outputs": [
    {
     "name": "stdout",
     "output_type": "stream",
     "text": [
      "4.666666666666667\n"
     ]
    }
   ],
   "source": [
    "# 3\n",
    "def calculer_moyenne(liste_nombres):\n",
    "    total = 0\n",
    "    for nombre in liste_nombres:\n",
    "        total += nombre\n",
    "    moyenne = total / len(liste_nombres)\n",
    "    return moyenne\n",
    "\n",
    "# Exemple d'utilisation\n",
    "ma_liste = [5, 2, 8, 3, 9, 1]\n",
    "resultat = calculer_moyenne(ma_liste)\n",
    "print(resultat)\n"
   ]
  },
  {
   "cell_type": "code",
   "execution_count": 4,
   "metadata": {},
   "outputs": [
    {
     "name": "stdout",
     "output_type": "stream",
     "text": [
      "[5, 4, 3, 2, 1]\n"
     ]
    }
   ],
   "source": [
    "# 4\n",
    "def inverser_liste(liste):\n",
    "    return liste[::-1]\n",
    "\n",
    "# Exemple d'utilisation\n",
    "ma_liste = [1, 2, 3, 4, 5]\n",
    "resultat = inverser_liste(ma_liste)\n",
    "print(resultat)\n"
   ]
  },
  {
   "cell_type": "code",
   "execution_count": 7,
   "metadata": {},
   "outputs": [
    {
     "name": "stdout",
     "output_type": "stream",
     "text": [
      "Momar\n",
      "Sarr\n",
      "Racky\n",
      "Eva\n"
     ]
    }
   ],
   "source": [
    "# 5\n",
    "def afficher_noms_avec_a(liste_noms):\n",
    "    for nom in liste_noms:\n",
    "        if \"a\" in nom:\n",
    "            print(nom)\n",
    "\n",
    "# Exemple d'utilisation\n",
    "ma_liste = [\"Momar\", \"Bob\", \"Sarr\", \"Racky\", \"Eva\"]\n",
    "afficher_noms_avec_a(ma_liste)\n"
   ]
  },
  {
   "cell_type": "code",
   "execution_count": null,
   "metadata": {},
   "outputs": [],
   "source": []
  }
 ],
 "metadata": {
  "kernelspec": {
   "display_name": "Python 3",
   "language": "python",
   "name": "python3"
  },
  "language_info": {
   "codemirror_mode": {
    "name": "ipython",
    "version": 3
   },
   "file_extension": ".py",
   "mimetype": "text/x-python",
   "name": "python",
   "nbconvert_exporter": "python",
   "pygments_lexer": "ipython3",
   "version": "3.7.4"
  }
 },
 "nbformat": 4,
 "nbformat_minor": 2
}
