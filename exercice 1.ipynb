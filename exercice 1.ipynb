{
 "cells": [
  {
   "cell_type": "code",
   "execution_count": 3,
   "metadata": {},
   "outputs": [
    {
     "name": "stdout",
     "output_type": "stream",
     "text": [
      "2\n",
      "4\n",
      "6\n",
      "8\n",
      "10\n",
      "12\n",
      "14\n",
      "16\n",
      "18\n",
      "20\n"
     ]
    }
   ],
   "source": [
    "# 1\n",
    "nombres = list(range(1, 11))\n",
    "for nombre in nombres:\n",
    "    resultat = nombre * 2\n",
    "    print(resultat)"
   ]
  },
  {
   "cell_type": "code",
   "execution_count": 9,
   "metadata": {},
   "outputs": [
    {
     "name": "stdout",
     "output_type": "stream",
     "text": [
      "Le nom Mouhamed a une longueur de 8 caractères.\n",
      "Le nom Momar a une longueur de 5 caractères.\n",
      "Le nom Racky a une longueur de 5 caractères.\n",
      "Le nom Sarr a une longueur de 4 caractères.\n"
     ]
    }
   ],
   "source": [
    "# 2\n",
    "noms = [\"Mouhamed\", \"Momar\", \"Racky\", \"Sarr\"]\n",
    "\n",
    "for nom in noms:\n",
    "    longueur = len(nom)\n",
    "    print(f\"Le nom {nom} a une longueur de {longueur} caractères.\")\n"
   ]
  },
  {
   "cell_type": "code",
   "execution_count": 5,
   "metadata": {},
   "outputs": [
    {
     "name": "stdout",
     "output_type": "stream",
     "text": [
      "[1, 4, 9, 16, 25]\n"
     ]
    }
   ],
   "source": [
    "# 3\n",
    "def carre_liste(liste):\n",
    "    carres = []\n",
    "    for element in liste:\n",
    "        carre = element ** 2\n",
    "        carres.append(carre)\n",
    "    return carres\n",
    "\n",
    "\n",
    "\n",
    "ma_liste = [1, 2, 3, 4, 5]\n",
    "resultat = carre_liste(ma_liste)\n",
    "print(resultat)\n"
   ]
  },
  {
   "cell_type": "code",
   "execution_count": 6,
   "metadata": {},
   "outputs": [
    {
     "name": "stdout",
     "output_type": "stream",
     "text": [
      "[6, 8, 7, 8, 8]\n"
     ]
    }
   ],
   "source": [
    "# 4\n",
    "import random\n",
    "\n",
    "# Créer une liste de 10 nombres aléatoires entre 1 et 10\n",
    "liste_nombres = [random.randint(1, 10) for _ in range(10)]\n",
    "\n",
    "# Afficher les nombres supérieurs à 5\n",
    "resultat = [nombre for nombre in liste_nombres if nombre > 5]\n",
    "print(resultat)"
   ]
  },
  {
   "cell_type": "code",
   "execution_count": 8,
   "metadata": {},
   "outputs": [
    {
     "name": "stdout",
     "output_type": "stream",
     "text": [
      "mouton\n"
     ]
    }
   ],
   "source": [
    "# 5\n",
    "def trouver_plus_longue(liste):\n",
    "    plus_longue = \"\"\n",
    "    for chaine in liste:\n",
    "        if len(chaine) > len(plus_longue):\n",
    "            plus_longue = chaine\n",
    "    return plus_longue\n",
    "\n",
    "# Exemple d'utilisation\n",
    "ma_liste = [\"mouton\", \"lapin\", \"oiseau\", \"lapin\"]\n",
    "resultat = trouver_plus_longue(ma_liste)\n",
    "print(resultat)\n",
    "\n",
    "\n"
   ]
  },
  {
   "cell_type": "code",
   "execution_count": null,
   "metadata": {},
   "outputs": [],
   "source": []
  }
 ],
 "metadata": {
  "kernelspec": {
   "display_name": "Python 3",
   "language": "python",
   "name": "python3"
  },
  "language_info": {
   "codemirror_mode": {
    "name": "ipython",
    "version": 3
   },
   "file_extension": ".py",
   "mimetype": "text/x-python",
   "name": "python",
   "nbconvert_exporter": "python",
   "pygments_lexer": "ipython3",
   "version": "3.7.4"
  }
 },
 "nbformat": 4,
 "nbformat_minor": 2
}
